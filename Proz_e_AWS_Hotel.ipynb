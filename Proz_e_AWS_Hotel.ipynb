{
  "nbformat": 4,
  "nbformat_minor": 0,
  "metadata": {
    "colab": {
      "provenance": [],
      "authorship_tag": "ABX9TyO+XDf1581ZV093uOUgofX9",
      "include_colab_link": true
    },
    "kernelspec": {
      "name": "python3",
      "display_name": "Python 3"
    },
    "language_info": {
      "name": "python"
    }
  },
  "cells": [
    {
      "cell_type": "markdown",
      "metadata": {
        "id": "view-in-github",
        "colab_type": "text"
      },
      "source": [
        "<a href=\"https://colab.research.google.com/github/vconessa/Proz-AWS/blob/main/Proz_e_AWS_Hotel.ipynb\" target=\"_parent\"><img src=\"https://colab.research.google.com/assets/colab-badge.svg\" alt=\"Open In Colab\"/></a>"
      ]
    },
    {
      "cell_type": "markdown",
      "source": [
        "Precisamos imprimir um número para cada andar de um hotel de 20 andares. Porém, o dono do hotel é supersticioso e optou por não ter um 13ro andar.\n",
        "\n",
        "Escreva um código que imprima todos os números exceto o número 13.\n",
        "Escreva mais dois códigos que resolvam o mesmo problema, mas dessa vez usando os outros dois tipos de laços de repetição aprendidos.\n",
        "\n",
        "Como desafio, imprima eles em ordem decrescente (20, 19, 18...)"
      ],
      "metadata": {
        "id": "eTTQqYe3mqTn"
      }
    },
    {
      "cell_type": "code",
      "source": [
        "# Utilizando laço de repetição FOR\n",
        "\n",
        "andar = 0\n",
        "\n",
        "for i in range (21):\n",
        "  andar += 1\n",
        "  if (andar == 13):\n",
        "    continue\n",
        "  if (andar == 21):\n",
        "    break\n",
        "  print(andar,'° andar')\n",
        "\n",
        ""
      ],
      "metadata": {
        "colab": {
          "base_uri": "https://localhost:8080/"
        },
        "id": "bYiHZ2gCr5o-",
        "outputId": "efa953d4-c1b1-4c02-ffc1-00042a8b784c"
      },
      "execution_count": 108,
      "outputs": [
        {
          "output_type": "stream",
          "name": "stdout",
          "text": [
            "1 ° andar\n",
            "2 ° andar\n",
            "3 ° andar\n",
            "4 ° andar\n",
            "5 ° andar\n",
            "6 ° andar\n",
            "7 ° andar\n",
            "8 ° andar\n",
            "9 ° andar\n",
            "10 ° andar\n",
            "11 ° andar\n",
            "12 ° andar\n",
            "14 ° andar\n",
            "15 ° andar\n",
            "16 ° andar\n",
            "17 ° andar\n",
            "18 ° andar\n",
            "19 ° andar\n",
            "20 ° andar\n"
          ]
        }
      ]
    },
    {
      "cell_type": "code",
      "source": [
        "# Utilizando laço de repetição WHILE\n",
        "\n",
        "piso = 1\n",
        "\n",
        "while piso < 13:\n",
        "  print(piso,'° piso')\n",
        "  piso += 1\n",
        "piso+=1\n",
        "\n",
        "while piso <= 20:\n",
        "  print(piso,'° piso')\n",
        "  piso += 1\n"
      ],
      "metadata": {
        "colab": {
          "base_uri": "https://localhost:8080/"
        },
        "id": "dT7i2NQAsI5u",
        "outputId": "eddeb415-91b8-46fd-f67c-4648aff21a93"
      },
      "execution_count": 109,
      "outputs": [
        {
          "output_type": "stream",
          "name": "stdout",
          "text": [
            "1 ° piso\n",
            "2 ° piso\n",
            "3 ° piso\n",
            "4 ° piso\n",
            "5 ° piso\n",
            "6 ° piso\n",
            "7 ° piso\n",
            "8 ° piso\n",
            "9 ° piso\n",
            "10 ° piso\n",
            "11 ° piso\n",
            "12 ° piso\n",
            "14 ° piso\n",
            "15 ° piso\n",
            "16 ° piso\n",
            "17 ° piso\n",
            "18 ° piso\n",
            "19 ° piso\n",
            "20 ° piso\n"
          ]
        }
      ]
    },
    {
      "cell_type": "code",
      "source": [
        "# Utilizando laço de repetição FOR DECRESCENTE\n",
        "\n",
        "andar = 21\n",
        "\n",
        "for i in range (21,1,-1):\n",
        "  andar -= 1\n",
        "  if (andar == 13):\n",
        "    continue\n",
        "  if (andar == 21):\n",
        "    break\n",
        "  print(andar,'° andar')"
      ],
      "metadata": {
        "colab": {
          "base_uri": "https://localhost:8080/"
        },
        "id": "50XWNXLvuIpe",
        "outputId": "b7abdb3d-9179-4c01-d0cd-5cf460b8a041"
      },
      "execution_count": 120,
      "outputs": [
        {
          "output_type": "stream",
          "name": "stdout",
          "text": [
            "20 ° andar\n",
            "19 ° andar\n",
            "18 ° andar\n",
            "17 ° andar\n",
            "16 ° andar\n",
            "15 ° andar\n",
            "14 ° andar\n",
            "12 ° andar\n",
            "11 ° andar\n",
            "10 ° andar\n",
            "9 ° andar\n",
            "8 ° andar\n",
            "7 ° andar\n",
            "6 ° andar\n",
            "5 ° andar\n",
            "4 ° andar\n",
            "3 ° andar\n",
            "2 ° andar\n",
            "1 ° andar\n"
          ]
        }
      ]
    }
  ]
}