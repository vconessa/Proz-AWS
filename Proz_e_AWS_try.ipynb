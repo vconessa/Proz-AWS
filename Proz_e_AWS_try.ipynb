{
  "nbformat": 4,
  "nbformat_minor": 0,
  "metadata": {
    "colab": {
      "provenance": [],
      "authorship_tag": "ABX9TyN2B14CRJQodjrUvOej0TNy",
      "include_colab_link": true
    },
    "kernelspec": {
      "name": "python3",
      "display_name": "Python 3"
    },
    "language_info": {
      "name": "python"
    }
  },
  "cells": [
    {
      "cell_type": "markdown",
      "metadata": {
        "id": "view-in-github",
        "colab_type": "text"
      },
      "source": [
        "<a href=\"https://colab.research.google.com/github/vconessa/Proz-AWS/blob/main/Proz_e_AWS_try.ipynb\" target=\"_parent\"><img src=\"https://colab.research.google.com/assets/colab-badge.svg\" alt=\"Open In Colab\"/></a>"
      ]
    },
    {
      "cell_type": "markdown",
      "source": [
        "Desenvolva um programa que recebe do usuário nome completo e ano de nascimento que seja entre 1922 e 2021.\n",
        "A partir dessas informações, o sistema mostrará o nome do usuário e a idade que completou, ou completará, no ano atual (2022).\n",
        "\n",
        "Caso o usuário não digite um número ou apareça um inválido no campo do ano, o sistema informará o erro e continuará perguntando até que um valor correto seja preenchido.\n",
        "\n",
        "Trabalhe esse código em seu IDE, suba ele para sua conta no GitHub e compartilhe o link desse projeto no campo ao lado para que outros desenvolvedores possam analisá-lo."
      ],
      "metadata": {
        "id": "TrRXA48qz1tn"
      }
    },
    {
      "cell_type": "code",
      "source": [
        "import datetime"
      ],
      "metadata": {
        "id": "47C1I_Dk07uE"
      },
      "execution_count": 1,
      "outputs": []
    },
    {
      "cell_type": "code",
      "source": [
        "\n",
        "date = datetime.date.today()\n",
        "ano = date.strftime(\"%Y\")\n",
        "ano = int(ano)"
      ],
      "metadata": {
        "id": "YuUMqtjO2NI0"
      },
      "execution_count": 2,
      "outputs": []
    },
    {
      "cell_type": "code",
      "execution_count": 9,
      "metadata": {
        "colab": {
          "base_uri": "https://localhost:8080/"
        },
        "id": "WT4cIY5uzOaf",
        "outputId": "a976c7ee-b2f7-41d5-8510-3d5d720f5c66"
      },
      "outputs": [
        {
          "output_type": "stream",
          "name": "stdout",
          "text": [
            "Digite seu nome completo: Vinicius \n",
            "Digite o ano de seu nascimento: 1921\n",
            "Ano invalido, tente novamente\n",
            "\n",
            "Digite seu nome completo: Vinicius\n",
            "Digite o ano de seu nascimento: 2024\n",
            "Ano invalido, tente novamente\n",
            "\n",
            "Digite seu nome completo: Vinicius \n",
            "Digite o ano de seu nascimento: 1991\n",
            "Vinicius  você completou ou completará 32 anos esse ano\n"
          ]
        }
      ],
      "source": [
        "validacao = False\n",
        "while (validacao == False):\n",
        "  try:\n",
        "    nome = str(input('Digite seu nome completo: '))\n",
        "    ano_nascimento = int(input('Digite o ano de seu nascimento: '))\n",
        "    if ano_nascimento < 1922 or ano_nascimento > ano:\n",
        "      print('Ano invalido, tente novamente')\n",
        "      print()\n",
        "      ano_nascimento = int(input(nome,'Digite novamente o ano de seu nascimento: '))\n",
        "    else:\n",
        "      print(f'{nome} você completou ou completará {ano - ano_nascimento} anos esse ano')\n",
        "      validacao = True\n",
        "  except:\n",
        "    validacao = False"
      ]
    }
  ]
}