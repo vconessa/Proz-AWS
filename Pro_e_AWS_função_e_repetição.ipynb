{
  "cells": [
    {
      "cell_type": "markdown",
      "metadata": {
        "id": "view-in-github",
        "colab_type": "text"
      },
      "source": [
        "<a href=\"https://colab.research.google.com/github/vconessa/Proz-AWS/blob/main/Pro_e_AWS_fun%C3%A7%C3%A3o_e_repeti%C3%A7%C3%A3o.ipynb\" target=\"_parent\"><img src=\"https://colab.research.google.com/assets/colab-badge.svg\" alt=\"Open In Colab\"/></a>"
      ]
    },
    {
      "cell_type": "markdown",
      "metadata": {
        "id": "SeFZf-r_dptJ"
      },
      "source": [
        "Faça uma função calculadora que os números e as operações serão feitas pelo usuário. O código deve ficar rodando infinitamente até que o usuário escolha a opção de sair. No início, o programa mostrará a seguinte lista de operações:\n",
        "\n",
        "1: Soma\n",
        "2: Subtração\n",
        "3: Multiplicação\n",
        "4: Divisão\n",
        "0: Sair\n",
        "\n",
        "Digite o número para a operação correspondente e caso o usuário introduza qualquer outro, o sistema deve mostrar a mensagem “Essa opção não existe” e voltar ao menu de opções.\n",
        "\n",
        "Após a seleção, o sistema deve pedir para o usuário inserir o primeiro e segundo valor, um de cada. Depois precisa executar a operação e mostrar o resultado na tela. Quando o usuário escolher a opção “Sair”, o sistema irá parar.\n",
        "\n",
        "É necessário que o sistema mostre as opções sempre que finalizar uma operação e mostrar o resultado.\n",
        "\n",
        "Trabalhe esse código em seu IDE, suba ele para sua conta no GitHub e compartilhe o link desse projeto no campo ao lado para que outros desenvolvedores possam analisá-lo."
      ]
    },
    {
      "cell_type": "code",
      "execution_count": 32,
      "metadata": {
        "id": "mP5QSuKhdo85"
      },
      "outputs": [],
      "source": [
        "def calculadora(n1,n2,op):\n",
        "  if op == 1:\n",
        "    res = (n1 + n2)\n",
        "  elif op == 2:\n",
        "    res = (n1 - n2)\n",
        "  elif op == 3:\n",
        "    res = (n1 * n2)\n",
        "  elif op == 4:\n",
        "    res = (n1/n2)\n",
        "  else:\n",
        "    res = 0\n",
        "  return res"
      ]
    },
    {
      "cell_type": "code",
      "execution_count": 37,
      "metadata": {
        "colab": {
          "base_uri": "https://localhost:8080/"
        },
        "id": "BA-ZUs5keUh0",
        "outputId": "9bbdc28f-b1be-4c7b-efa4-a4aa42848b59"
      },
      "outputs": [
        {
          "output_type": "stream",
          "name": "stdout",
          "text": [
            "----- CALCULADORE-----\n",
            "\n",
            "*MENU* 1: Soma 2: Subtração 3: Multiplicação 4: Divisão 0: Sair\n",
            "\n",
            "Digite o primeiro número: 10\n",
            "Digite o segundo número: 10\n",
            "Digite a opção desejada: 3\n",
            "O resultado é =  100\n",
            "\n",
            "Digite 1 para continuar e 0 para parar: 1\n",
            "\n",
            "*MENU* 1: Soma 2: Subtração 3: Multiplicação 4: Divisão 0: Sair\n",
            "Digite o primeiro número: 50\n",
            "Digite o segundo número: 60\n",
            "Digite a opção desejada: 4\n",
            "O resultado é =  0.8333333333333334\n",
            "\n",
            "Digite 1 para continuar e 0 para parar: 0\n",
            "\n",
            "Fechando Calculadora...\n"
          ]
        }
      ],
      "source": [
        "print('----- CALCULADORE-----')\n",
        "print()\n",
        "print('*MENU* 1: Soma 2: Subtração 3: Multiplicação 4: Divisão 0: Sair')\n",
        "print()\n",
        "\n",
        "sair = 1\n",
        "while sair != 0:\n",
        "  n1 = int(input('Digite o primeiro número: '))\n",
        "  n2 = int(input('Digite o segundo número: '))\n",
        "  op = int(input('Digite a opção desejada: '))\n",
        "  while op < 0 or op > 4:\n",
        "    print('ERRO - Consulto o menu')\n",
        "    op = int(input('Digite a opção desejada: '))\n",
        "  print('O resultado é = ',calculadora(n1,n2,op))\n",
        "  print()\n",
        "  sair = int(input('Digite 1 para continuar e 0 para parar: '))\n",
        "  print()\n",
        "  if sair == 1:\n",
        "    print('*MENU* 1: Soma 2: Subtração 3: Multiplicação 4: Divisão 0: Sair')\n",
        "print('Fechando Calculadora...')\n"
      ]
    }
  ],
  "metadata": {
    "colab": {
      "provenance": [],
      "authorship_tag": "ABX9TyMjhVS48UrgtFl9VbPtOtFD",
      "include_colab_link": true
    },
    "kernelspec": {
      "display_name": "Python 3",
      "name": "python3"
    },
    "language_info": {
      "name": "python"
    }
  },
  "nbformat": 4,
  "nbformat_minor": 0
}