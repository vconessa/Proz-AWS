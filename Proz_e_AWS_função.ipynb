{
  "nbformat": 4,
  "nbformat_minor": 0,
  "metadata": {
    "colab": {
      "provenance": [],
      "authorship_tag": "ABX9TyNZGeEOI3l7jVXP8XqWZEs+",
      "include_colab_link": true
    },
    "kernelspec": {
      "name": "python3",
      "display_name": "Python 3"
    },
    "language_info": {
      "name": "python"
    }
  },
  "cells": [
    {
      "cell_type": "markdown",
      "metadata": {
        "id": "view-in-github",
        "colab_type": "text"
      },
      "source": [
        "<a href=\"https://colab.research.google.com/github/vconessa/Proz-AWS/blob/main/Proz_e_AWS_fun%C3%A7%C3%A3o.ipynb\" target=\"_parent\"><img src=\"https://colab.research.google.com/assets/colab-badge.svg\" alt=\"Open In Colab\"/></a>"
      ]
    },
    {
      "cell_type": "markdown",
      "source": [
        "\n",
        "Faça uma função calculadora de dois números com três parâmetros: os dois primeiros serão os números da operação e o terceiro será a entrada que definirá a operação a ser executada. Considera a seguinte definição:\n",
        "1. Soma\n",
        "2. Subtração\n",
        "3. Multiplicação\n",
        "4. Divisão\n",
        "\n",
        "Caso seja inserido um número de operação que não exista, o resultado deverá ser 0."
      ],
      "metadata": {
        "id": "YfwiWS5VZXjD"
      }
    },
    {
      "cell_type": "code",
      "source": [
        "def calculadora(n1,n2,op):\n",
        "  if op == 1:\n",
        "    res = (n1 + n2)\n",
        "  elif op == 2:\n",
        "    res = (n1 - n2)\n",
        "  elif op == 3:\n",
        "    res = (n1 * n2)\n",
        "  elif op == 4:\n",
        "    res = (n1/n2)\n",
        "  else:\n",
        "    res = 0\n",
        "  return res"
      ],
      "metadata": {
        "id": "Djsi8s22ZZfH"
      },
      "execution_count": 18,
      "outputs": []
    },
    {
      "cell_type": "code",
      "source": [
        "calculadora (10,5,1)"
      ],
      "metadata": {
        "colab": {
          "base_uri": "https://localhost:8080/"
        },
        "id": "Hsnbv_6UaQzn",
        "outputId": "6ddcdf36-8a06-4de3-94f8-29d6143bda0e"
      },
      "execution_count": 19,
      "outputs": [
        {
          "output_type": "execute_result",
          "data": {
            "text/plain": [
              "15"
            ]
          },
          "metadata": {},
          "execution_count": 19
        }
      ]
    }
  ]
}