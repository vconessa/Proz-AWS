{
  "nbformat": 4,
  "nbformat_minor": 0,
  "metadata": {
    "colab": {
      "provenance": [],
      "authorship_tag": "ABX9TyNU1Yoi/DLiGwUPIAtUQym2",
      "include_colab_link": true
    },
    "kernelspec": {
      "name": "python3",
      "display_name": "Python 3"
    },
    "language_info": {
      "name": "python"
    }
  },
  "cells": [
    {
      "cell_type": "markdown",
      "metadata": {
        "id": "view-in-github",
        "colab_type": "text"
      },
      "source": [
        "<a href=\"https://colab.research.google.com/github/vconessa/Proz-AWS/blob/main/Proz_e_AWS_Carro.ipynb\" target=\"_parent\"><img src=\"https://colab.research.google.com/assets/colab-badge.svg\" alt=\"Open In Colab\"/></a>"
      ]
    },
    {
      "cell_type": "markdown",
      "source": [
        "Desenvolva um código que utilize as seguintes características de um veículo:\n",
        "- Quantidade de rodas;\n",
        "- Peso bruto em quilogramas;\n",
        "- Quantidade de pessoas no veículo;\n",
        "\n",
        "Com essas informações, o programa mostrará qual é a melhor categoria de habilitação para o veículo informado a partir das condições:\n",
        "\n",
        "A: Veículos com duas ou três rodas;\n",
        "B: Veículos com quatro rodas, que acomodam até oito pessoas e seu peso é de até 3500 kg;\n",
        "C: Veículos com quatro rodas ou mais e com peso entre 3500 e 6000 kg;\n",
        "D: Veículos com quatro rodas ou mais e que acomodam mais de oito pessoas;\n",
        "E: Veículos com quatro rodas ou mais e com mais de 6000 kg.\n",
        "\n",
        "Trabalhe esse código em seu IDE, suba ele para sua conta no GitHub e compartilhe o link desse projeto no campo ao lado para que outros desenvolvedores possam analisá-lo."
      ],
      "metadata": {
        "id": "s3owWg1Bx57e"
      }
    },
    {
      "cell_type": "code",
      "execution_count": null,
      "metadata": {
        "id": "o7qB-Vjtx0qd",
        "colab": {
          "base_uri": "https://localhost:8080/"
        },
        "outputId": "03e81d09-be0f-4d3d-d340-811e331b454d"
      },
      "outputs": [
        {
          "name": "stdout",
          "output_type": "stream",
          "text": [
            "Quantidade de rodas: 3\n",
            "Peso do veículo em KG: 6000\n",
            "Quantidade de passageiros: 2\n"
          ]
        }
      ],
      "source": [
        "qtd_rodas = int(input(\"Quantidade de rodas: \"))\n",
        "peso = float(input(\"Peso do veículo em KG: \"))\n",
        "passageiros = int(input(\"Quantidade de passageiros: \"))"
      ]
    },
    {
      "cell_type": "code",
      "source": [
        "if qtd_rodas <= 3 and passageiros <=2:\n",
        "  print('Opção A - Veículos com duas ou três rodas')\n",
        "elif qtd_rodas <= 3 and passageiros >2:\n",
        "  print('ATENÇÃO, vaículos de até 3 rodas geralmente acomodam até 2 pessoas. Opção A - Veículos com duas ou três rodas')\n",
        "elif qtd_rodas >= 4:\n",
        "  if passageiros <= 8 and peso <= 3500:\n",
        "    print('Opção B - Veículos com quatro rodas, que acomodam até oito pessoas e seu peso é de até 3500 kg')\n",
        "  elif peso > 3500 and peso <= 6000:\n",
        "    print('Opção C - Veículos com quatro rodas ou mais e com peso entre 3500 e 6000 kg')\n",
        "  elif passageiros > 8:\n",
        "    print('Opção D - Veículos com quatro rodas ou mais e que acomodam mais de oito pessoas')\n",
        "  else:\n",
        "    print('Opção E - Veículos com quatro rodas ou mais e com mais de 6000 kg ')"
      ],
      "metadata": {
        "id": "56yWVYwJyMl5",
        "colab": {
          "base_uri": "https://localhost:8080/"
        },
        "outputId": "6d1300e5-e29c-4ce1-b72a-427c8e59719f"
      },
      "execution_count": null,
      "outputs": [
        {
          "output_type": "stream",
          "name": "stdout",
          "text": [
            "Opção A - Veículos com duas ou três rodas\n"
          ]
        }
      ]
    }
  ]
}